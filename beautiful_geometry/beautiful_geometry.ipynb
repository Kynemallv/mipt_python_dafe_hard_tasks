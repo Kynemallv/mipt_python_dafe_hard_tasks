{
 "cells": [
  {
   "cell_type": "code",
   "execution_count": 35,
   "metadata": {},
   "outputs": [],
   "source": [
    "import numpy as np\n",
    "import matplotlib.pyplot as plt"
   ]
  },
  {
   "cell_type": "code",
   "execution_count": 36,
   "metadata": {},
   "outputs": [],
   "source": [
    "X_MIN = -100\n",
    "X_MAX = 100\n",
    "POINTS_AMOUNT = 500\n",
    "\n",
    "\n",
    "def beautiful_geometry() -> tuple[np.ndarray[float], np.ndarray[float]]:\n",
    "    x = np.linspace(X_MIN, X_MAX, POINTS_AMOUNT)\n",
    "    y = x ** 2\n",
    "\n",
    "    return x, y"
   ]
  },
  {
   "cell_type": "code",
   "execution_count": 40,
   "metadata": {},
   "outputs": [],
   "source": [
    "PHI_MIN = 0\n",
    "PHI_MAX = np.pi * 2\n",
    "POINTS_AMOUNT = 500\n",
    "\n",
    "\n",
    "def beautiful_geometry_polar() -> tuple[np.ndarray[float], np.ndarray[float]]:\n",
    "    phi = np.linspace(PHI_MIN, PHI_MAX, POINTS_AMOUNT)\n",
    "    x = np.cos(phi)\n",
    "    y = np.sin(phi)\n",
    "\n",
    "    return x, y"
   ]
  },
  {
   "cell_type": "code",
   "execution_count": 42,
   "metadata": {},
   "outputs": [],
   "source": [
    "def _draw(x: list[int], y: list[int]) -> None:\n",
    "    fig = plt.figure(figsize = (7, 7))\n",
    "    # Create the plot\n",
    "    plt.plot(x, y)\n",
    " \n",
    "    # Show the plot\n",
    "    plt.show()"
   ]
  },
  {
   "cell_type": "code",
   "execution_count": null,
   "metadata": {},
   "outputs": [],
   "source": [
    "_draw(*beautiful_geometry())"
   ]
  },
  {
   "cell_type": "code",
   "execution_count": null,
   "metadata": {},
   "outputs": [],
   "source": [
    "_draw(*beautiful_geometry_polar())"
   ]
  },
  {
   "cell_type": "code",
   "execution_count": 1,
   "metadata": {},
   "outputs": [],
   "source": [
    "def mandelbrot(x, y, threshold):\n",
    "    \"\"\"Calculates whether the number c = x + i*y belongs to the \n",
    "    Mandelbrot set. In order to belong, the sequence z[i + 1] = z[i]**2 + c\n",
    "    must not diverge after 'threshold' number of steps. The sequence diverges\n",
    "    if the absolute value of z[i+1] is greater than 4.\n",
    "    \n",
    "    :param float x: the x component of the initial complex number\n",
    "    :param float y: the y component of the initial complex number\n",
    "    :param int threshold: the number of iterations to considered it converged\n",
    "    \"\"\"\n",
    "    # initial conditions\n",
    "    c = complex(x, y)\n",
    "    z = complex(0, 0)\n",
    "    \n",
    "    for i in range(threshold):\n",
    "        z = z**2 + c\n",
    "        if abs(z) > 4.:  # it diverged\n",
    "            return i\n",
    "        \n",
    "    return threshold - 1  # it didn't diverge"
   ]
  },
  {
   "cell_type": "code",
   "execution_count": null,
   "metadata": {},
   "outputs": [],
   "source": [
    "import numpy as np\n",
    "import matplotlib.pyplot as plt\n",
    "import matplotlib.animation as animation\n",
    "\n",
    "plt.rcParams[\"animation.html\"] = \"jshtml\"\n",
    "plt.rcParams['figure.dpi'] = 150 \n",
    "\n",
    "x_start, y_start = -2, -1.5  # an interesting region starts here\n",
    "width, height = 3, 3  # for 3 units up and right\n",
    "density_per_unit = 250  # how many pixles per unit\n",
    "\n",
    "# real and imaginary axis\n",
    "re = np.linspace(x_start, x_start + width, width * density_per_unit )\n",
    "im = np.linspace(y_start, y_start + height, height * density_per_unit)\n",
    "\n",
    "fig = plt.figure(figsize=(10, 10))  # instantiate a figure to draw\n",
    "ax = plt.axes()  # create an axes object\n",
    "\n",
    "def animate(i):\n",
    "    ax.clear()  # clear axes object\n",
    "    ax.set_xticks([], [])  # clear x-axis ticks\n",
    "    ax.set_yticks([], [])  # clear y-axis ticks\n",
    "    \n",
    "    X = np.empty((len(re), len(im)))  # re-initialize the array-like image\n",
    "    threshold = round(1.15**(i + 1))  # calculate the current threshold\n",
    "    \n",
    "    # iterations for the current threshold\n",
    "    for i in range(len(re)):\n",
    "        for j in range(len(im)):\n",
    "            X[i, j] = mandelbrot(re[i], im[j], threshold)\n",
    "    \n",
    "    # associate colors to the iterations with an iterpolation\n",
    "    img = ax.imshow(X.T, interpolation=\"bicubic\", cmap='magma')\n",
    "    return [img]\n",
    " \n",
    "anim = animation.FuncAnimation(fig, animate, frames=45, interval=120, blit=True)\n",
    "anim.save(\"mandelbrot.gif\")"
   ]
  },
  {
   "cell_type": "code",
   "execution_count": 24,
   "metadata": {},
   "outputs": [],
   "source": [
    "def julia_quadratic(zx, zy, cx, cy, threshold):\n",
    "    \"\"\"Calculates whether the number z[0] = zx + i*zy with a constant c = x + i*y\n",
    "    belongs to the Julia set. In order to belong, the sequence \n",
    "    z[i + 1] = z[i]**2 + c, must not diverge after 'threshold' number of steps.\n",
    "    The sequence diverges if the absolute value of z[i+1] is greater than 4.\n",
    "    \n",
    "    :param float zx: the x component of z[0]\n",
    "    :param float zy: the y component of z[0]\n",
    "    :param float cx: the x component of the constant c\n",
    "    :param float cy: the y component of the constant c\n",
    "    :param int threshold: the number of iterations to considered it converged\n",
    "    \"\"\"\n",
    "    # initial conditions\n",
    "    z = complex(zx, zy)\n",
    "    c = complex(cx, cy)\n",
    "    \n",
    "    for i in range(threshold):\n",
    "        z = z**2 + c\n",
    "        if abs(z) > 4.:  # it diverged\n",
    "            return i\n",
    "        \n",
    "    return threshold - 1  # it didn't diverge"
   ]
  },
  {
   "cell_type": "code",
   "execution_count": null,
   "metadata": {},
   "outputs": [],
   "source": [
    "import numpy as np\n",
    "import matplotlib.pyplot as plt\n",
    "import matplotlib.animation as animation\n",
    "\n",
    "x_start, y_start = -2, -2  # an interesting region starts here\n",
    "width, height = 4, 4  # for 4 units up and right\n",
    "density_per_unit = 200  # how many pixles per unit\n",
    "\n",
    "# real and imaginary axis\n",
    "re = np.linspace(x_start, x_start + width, width * density_per_unit )\n",
    "im = np.linspace(y_start, y_start + height, height * density_per_unit)\n",
    "\n",
    "\n",
    "threshold = 20  # max allowed iterations\n",
    "frames = 100  # number of frames in the animation\n",
    "\n",
    "# we represent c as c = r*cos(a) + i*r*sin(a) = r*e^{i*a}\n",
    "r = 0.7885\n",
    "a = np.linspace(0, 2*np.pi, frames)\n",
    "\n",
    "fig = plt.figure(figsize=(10, 10))  # instantiate a figure to draw\n",
    "ax = plt.axes()  # create an axes object\n",
    "\n",
    "def animate(i):\n",
    "    ax.clear()  # clear axes object\n",
    "    ax.set_xticks([], [])  # clear x-axis ticks\n",
    "    ax.set_yticks([], [])  # clear y-axis ticks\n",
    "    \n",
    "    X = np.empty((len(re), len(im)))  # the initial array-like image\n",
    "    cx, cy = r * np.cos(a[i]), r * np.sin(a[i])  # the initial c number\n",
    "    \n",
    "    # iterations for the given threshold\n",
    "    for i in range(len(re)):\n",
    "        for j in range(len(im)):\n",
    "            X[i, j] = julia_quadratic(re[i], im[j], cx, cy, threshold)\n",
    "    \n",
    "    img = ax.imshow(X.T, interpolation=\"bicubic\", cmap='magma')\n",
    "    return [img]\n",
    "\n",
    "anim = animation.FuncAnimation(fig, animate, frames=frames, interval=50, blit=True)\n",
    "anim.save('julia_set.gif')"
   ]
  }
 ],
 "metadata": {
  "kernelspec": {
   "display_name": "venv",
   "language": "python",
   "name": "python3"
  },
  "language_info": {
   "codemirror_mode": {
    "name": "ipython",
    "version": 3
   },
   "file_extension": ".py",
   "mimetype": "text/x-python",
   "name": "python",
   "nbconvert_exporter": "python",
   "pygments_lexer": "ipython3",
   "version": "3.12.3"
  }
 },
 "nbformat": 4,
 "nbformat_minor": 2
}
